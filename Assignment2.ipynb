{
 "cells": [
  {
   "cell_type": "markdown",
   "metadata": {},
   "source": [
    "## TASK 1"
   ]
  },
  {
   "cell_type": "code",
   "execution_count": 1,
   "metadata": {},
   "outputs": [
    {
     "name": "stdout",
     "output_type": "stream",
     "text": [
      "21\n"
     ]
    }
   ],
   "source": [
    "#myreduce function which works like in-built reduce function\n",
    "def myreduce(list): \n",
    "    lst = [1,2,3,4,5,6]\n",
    "    s = 0\n",
    "    for x in lst:\n",
    "            s=+x\n",
    "    print(s)\n",
    "    \n",
    "myreduce([])"
   ]
  },
  {
   "cell_type": "code",
   "execution_count": 2,
   "metadata": {},
   "outputs": [
    {
     "name": "stdout",
     "output_type": "stream",
     "text": [
      "[2, 4, 6, 8]\n"
     ]
    }
   ],
   "source": [
    "#myfilter function which works like in-built filter function\n",
    "def myfilter(*args):\n",
    "    m=[]\n",
    "    lst =[1,2,3,4,5,6,7,8,9]\n",
    "    for i in lst:\n",
    "        if i%2==0:\n",
    "            m.append(i)\n",
    "    print(m)\n",
    "    \n",
    "myfilter([])"
   ]
  },
  {
   "cell_type": "code",
   "execution_count": 3,
   "metadata": {},
   "outputs": [
    {
     "name": "stdout",
     "output_type": "stream",
     "text": [
      "['A', 'C', 'A', 'D', 'G', 'I', 'L', 'D']\n",
      "['x', 'xx', 'xxx', 'xxxx', 'y', 'yy', 'yyy', 'yyyy', 'z', 'zz', 'zzz', 'zzzz']\n",
      "['x', 'y', 'z', 'xx', 'yy', 'zz', 'xxx', 'yyy', 'zzz', 'xxxx', 'yyyy', 'zzzz']\n",
      "[[2], [3], [4], [3], [4], [5], [4], [5], [6]]\n",
      "[[2, 3, 4, 5], [3, 4, 5, 6], [4, 5, 6, 7], [5, 6, 7, 8]]\n",
      "[(1, 1), (2, 1), (3, 1), (1, 2), (2, 2), (3, 2), (1, 3), (2, 3), (3, 3)]\n"
     ]
    }
   ],
   "source": [
    "#['A','C','A','D','G','I','L','D']\n",
    "t = \"ACADGILD\"\n",
    "l = [i for i in t]\n",
    "print(l)\n",
    "\n",
    "#['x', 'xx', 'xxx', 'xxxx', 'y', 'yy', 'yyy', 'yyyy', 'z', 'zz', 'zzz', 'zzzz']\n",
    "lst=['x','y','z']\n",
    "print([lst[i]*j for i in range(len(lst)) for j in range(1,len(lst)+2)])\n",
    "\n",
    "#['x', 'y', 'z', 'xx', 'yy', 'zz', 'xxx', 'yyy', 'zzz', 'xxxx', 'yyyy', 'zzzz']\n",
    "print([lst[j] * i for i in range(1,5) for j in range(len(lst))])\n",
    "\n",
    "#[[2], [3], [4], [3], [4], [5], [4], [5], [6]]\n",
    "lst =[2,3,4]\n",
    "print([[i+num] for i in lst for num in range(0,3)])\n",
    "\n",
    "\n",
    "#[[2, 3, 4, 5], [3, 4, 5, 6], [4, 5, 6, 7], [5, 6, 7, 8]]\n",
    "lst =[2,3,4,5]\n",
    "print([[i+num for i in lst]for num in range(0,4)])\n",
    "\n",
    "#[(1, 1), (2, 1), (3, 1), (1, 2), (2, 2), (3, 2), (1, 3), (2, 3), (3, 3)]\n",
    "lst=[1,2,3]\n",
    "print(([(j,i) for i in lst for j in lst]))"
   ]
  },
  {
   "cell_type": "code",
   "execution_count": 4,
   "metadata": {},
   "outputs": [
    {
     "name": "stdout",
     "output_type": "stream",
     "text": [
      "Python Data Structure\n"
     ]
    }
   ],
   "source": [
    "#to find the longest element \n",
    "def longestWord(*lst):\n",
    "    m = []\n",
    "    for i in lst:           \n",
    "        lst2=list(map(len,lst))\n",
    "    print(lst[lst2.index(max(lst2))])\n",
    "    \n",
    "longestWord(\"Data Mining\",\"Neural Networks\",\"Machine Learning\",\"Python Data Structure\")"
   ]
  },
  {
   "cell_type": "markdown",
   "metadata": {},
   "source": [
    "## TASK 2"
   ]
  },
  {
   "cell_type": "code",
   "execution_count": 5,
   "metadata": {},
   "outputs": [
    {
     "name": "stdout",
     "output_type": "stream",
     "text": [
      "Enter the first side: 2\n",
      "Enter the second side: 3\n",
      "Enter the third side: 4\n",
      "Area of Triangle is : 2.9047375096555625\n"
     ]
    }
   ],
   "source": [
    "#to find the area of a triangle with class concepts...\n",
    "import sys\n",
    "import math\n",
    "\n",
    "class Triangle():\n",
    "    def __init__(self):\n",
    "        self.a = float(input(\"Enter the first side: \"))\n",
    "        self.b = float(input(\"Enter the second side: \"))\n",
    "        self.c = float(input(\"Enter the third side: \"))\n",
    "        \n",
    "class Area(Triangle):\n",
    "    def findArea(self):\n",
    "        s = (self.a + self.b + self.c)/2\n",
    "        area = math.sqrt(s*(s-self.a)*(s-self.b)*(s-self.c))\n",
    "        return area\n",
    "    \n",
    "if __name__==\"__main__\":\n",
    "    a= Area()\n",
    "    print(\"Area of Triangle is :\",a.findArea())"
   ]
  },
  {
   "cell_type": "code",
   "execution_count": 6,
   "metadata": {},
   "outputs": [
    {
     "name": "stdout",
     "output_type": "stream",
     "text": [
      "Enter the list of words separated by comma: Hello,Python,Welcome,To,The,coding,World\n",
      "Minimum length of words to keep: 5\n",
      "Words longer than 5 are Python, Welcome, coding\n"
     ]
    }
   ],
   "source": [
    "#filter_long_words() that takes a list of words and an integer n and returns the list of words that are longer than n.\n",
    "def filter_long_words(wordlist,n):\n",
    "    return filter(lambda word:len(word)>n, wordlist)\n",
    "\n",
    "def main():\n",
    "    words = input(\"Enter the list of words separated by comma: \").split(',')\n",
    "    length = int(input(\"Minimum length of words to keep: \"))\n",
    "    print(\"Words longer than {} are {}\".format(length,', '.join(filter_long_words(words, length))))\n",
    "\n",
    "if __name__ == \"__main__\":\n",
    "    main()\n"
   ]
  },
  {
   "cell_type": "code",
   "execution_count": 7,
   "metadata": {},
   "outputs": [
    {
     "name": "stdout",
     "output_type": "stream",
     "text": [
      "Length of words in the list are : [2, 3, 4]\n"
     ]
    }
   ],
   "source": [
    "#function that returns the lengths of the corresponding words.\n",
    "def map_to_lengths_lists(words):\n",
    "    return [len(word) for word in words]\n",
    "\n",
    "if __name__ == \"__main__\":\n",
    "    words = ['ab','cde','erty']\n",
    "    print(\"Length of words in the list are :\",map_to_lengths_lists(words))"
   ]
  },
  {
   "cell_type": "code",
   "execution_count": 8,
   "metadata": {},
   "outputs": [
    {
     "name": "stdout",
     "output_type": "stream",
     "text": [
      "Enter the character: a\n",
      "True\n"
     ]
    }
   ],
   "source": [
    "# function which takes a character (i.e. a string of length 1) and returns True if it is a vowel, False otherwise.\n",
    "def is_vowel(char):\n",
    "    #store values in tuple as the vowels are fixed\n",
    "    vowels = ('a', 'e', 'i', 'o', 'u')\n",
    "    if char not in vowels:\n",
    "        return False\n",
    "    return True\n",
    "\n",
    "if __name__ == \"__main__\":\n",
    "    ch = str(input(\"Enter the character: \"))\n",
    "    print(is_vowel(ch))"
   ]
  },
  {
   "cell_type": "code",
   "execution_count": null,
   "metadata": {},
   "outputs": [],
   "source": []
  }
 ],
 "metadata": {
  "kernelspec": {
   "display_name": "Python 3",
   "language": "python",
   "name": "python3"
  },
  "language_info": {
   "codemirror_mode": {
    "name": "ipython",
    "version": 3
   },
   "file_extension": ".py",
   "mimetype": "text/x-python",
   "name": "python",
   "nbconvert_exporter": "python",
   "pygments_lexer": "ipython3",
   "version": "3.7.6"
  }
 },
 "nbformat": 4,
 "nbformat_minor": 4
}

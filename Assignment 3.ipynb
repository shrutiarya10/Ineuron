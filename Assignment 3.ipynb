{
 "cells": [
  {
   "cell_type": "code",
   "execution_count": 1,
   "metadata": {},
   "outputs": [
    {
     "name": "stdout",
     "output_type": "stream",
     "text": [
      "enter value of a:5\n",
      "enter value of b:0\n",
      "the error is: division by zero\n",
      "finally always get executed\n"
     ]
    }
   ],
   "source": [
    "#Compute 5/0 using try/except to catch the exceptions\n",
    "a=int(input(\"enter value of a:\"))\n",
    "b=int(input(\"enter value of b:\"))\n",
    "try:\n",
    "    x=a/b\n",
    "    print(x)\n",
    "except Exception as e:\n",
    "    print(\"the error is:\",e)\n",
    "else:\n",
    "    print(\"execute when code has no exception or try execute without any exception\")\n",
    "finally:\n",
    "    print(\"finally always get executed\")"
   ]
  },
  {
   "cell_type": "code",
   "execution_count": 2,
   "metadata": {},
   "outputs": [
    {
     "name": "stdout",
     "output_type": "stream",
     "text": [
      "Americans Play Baseball.\n",
      "Americans Play Cricket.\n",
      "Americans watch Baseball.\n",
      "Americans watch Cricket.\n",
      "Indians Play Baseball.\n",
      "Indians Play Cricket.\n",
      "Indians watch Baseball.\n",
      "Indians watch Cricket.\n"
     ]
    }
   ],
   "source": [
    "#To generate all sentences in form as follows : \n",
    "sub = [\"Americans\",\"Indians\"]\n",
    "verb = [\"Play\",\"watch\"]\n",
    "obj = [\"Baseball\",\"Cricket\"]\n",
    "lst= [(i+' '+j+' '+k+'.') for i in sub for j in verb for k in obj]\n",
    "for x in lst:\n",
    "    print(x)"
   ]
  },
  {
   "cell_type": "code",
   "execution_count": 11,
   "metadata": {},
   "outputs": [],
   "source": [
    "#function to output the matrix as powers of the columns\n",
    "import numpy as np\n",
    "def my_vander(x,N,increasing=False):\n",
    "    lst=[]\n",
    "    if increasing:\n",
    "        for i in x:\n",
    "            for j in range(0,N):\n",
    "                lst.append(i**j)\n",
    "    else:\n",
    "        for i in x:\n",
    "            for j in range(N-1,-1,-1):\n",
    "                lst.append(i**j)\n",
    "    #converting list to numpy array to reshape it\n",
    "    out=np.array(lst)\n",
    "    return out.reshape(-1,N)"
   ]
  },
  {
   "cell_type": "code",
   "execution_count": 12,
   "metadata": {},
   "outputs": [
    {
     "data": {
      "text/plain": [
       "array([[    1,     1,     1,     1,     1],\n",
       "       [   16,     8,     4,     2,     1],\n",
       "       [  256,    64,    16,     4,     1],\n",
       "       [ 1296,   216,    36,     6,     1],\n",
       "       [ 4096,   512,    64,     8,     1],\n",
       "       [10000,  1000,   100,    10,     1]])"
      ]
     },
     "execution_count": 12,
     "metadata": {},
     "output_type": "execute_result"
    }
   ],
   "source": [
    "input_data=[1,2,4,6,8,10]\n",
    "my_vander(input_data,5)"
   ]
  },
  {
   "cell_type": "code",
   "execution_count": 13,
   "metadata": {},
   "outputs": [
    {
     "data": {
      "text/plain": [
       "array([[    1,     1,     1,     1,     1],\n",
       "       [    1,     2,     4,     8,    16],\n",
       "       [    1,     4,    16,    64,   256],\n",
       "       [    1,     6,    36,   216,  1296],\n",
       "       [    1,     8,    64,   512,  4096],\n",
       "       [    1,    10,   100,  1000, 10000]])"
      ]
     },
     "execution_count": 13,
     "metadata": {},
     "output_type": "execute_result"
    }
   ],
   "source": [
    "my_vander(input_data,5,True)"
   ]
  },
  {
   "cell_type": "code",
   "execution_count": null,
   "metadata": {},
   "outputs": [],
   "source": []
  }
 ],
 "metadata": {
  "kernelspec": {
   "display_name": "Python 3",
   "language": "python",
   "name": "python3"
  },
  "language_info": {
   "codemirror_mode": {
    "name": "ipython",
    "version": 3
   },
   "file_extension": ".py",
   "mimetype": "text/x-python",
   "name": "python",
   "nbconvert_exporter": "python",
   "pygments_lexer": "ipython3",
   "version": "3.7.6"
  }
 },
 "nbformat": 4,
 "nbformat_minor": 4
}
